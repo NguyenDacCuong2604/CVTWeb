{
  "nbformat": 4,
  "nbformat_minor": 0,
  "metadata": {
    "colab": {
      "provenance": [],
      "authorship_tag": "ABX9TyODadaHnTXr+ap59MQA06fI",
      "include_colab_link": true
    },
    "kernelspec": {
      "name": "python3",
      "display_name": "Python 3"
    },
    "language_info": {
      "name": "python"
    }
  },
  "cells": [
    {
      "cell_type": "markdown",
      "metadata": {
        "id": "view-in-github",
        "colab_type": "text"
      },
      "source": [
        "<a href=\"https://colab.research.google.com/github/NguyenDacCuong2604/CVTWeb/blob/main/SeparationAndProcessing.ipynb\" target=\"_parent\"><img src=\"https://colab.research.google.com/assets/colab-badge.svg\" alt=\"Open In Colab\"/></a>"
      ]
    },
    {
      "cell_type": "markdown",
      "source": [
        "**Tách từ bằng VNCoreNLP**"
      ],
      "metadata": {
        "id": "1RGOq21kwzGo"
      }
    },
    {
      "cell_type": "code",
      "execution_count": 1,
      "metadata": {
        "colab": {
          "base_uri": "https://localhost:8080/"
        },
        "id": "JgFvLrVzwf8O",
        "outputId": "e2ad21db-ec02-4bf6-b939-232604a633c7"
      },
      "outputs": [
        {
          "output_type": "stream",
          "name": "stdout",
          "text": [
            "Mounted at /content/gdrive\n",
            "/content/gdrive/MyDrive/Dataset\n"
          ]
        }
      ],
      "source": [
        "from google.colab import drive\n",
        "drive.mount('/content/gdrive')\n",
        "%cd '/content/gdrive/MyDrive/Dataset'"
      ]
    },
    {
      "cell_type": "code",
      "source": [
        "import pandas as pd\n",
        "import numpy as np"
      ],
      "metadata": {
        "id": "R_aesCTgxMg0"
      },
      "execution_count": 2,
      "outputs": []
    },
    {
      "cell_type": "code",
      "source": [
        "dataset = pd.read_csv('Root/dataset_22_4_2024.csv')\n",
        "dataset.info()"
      ],
      "metadata": {
        "colab": {
          "base_uri": "https://localhost:8080/"
        },
        "id": "xzDiOFvxxO-z",
        "outputId": "c447f89e-6fd9-45ac-e132-045c7f6527e3"
      },
      "execution_count": 4,
      "outputs": [
        {
          "output_type": "stream",
          "name": "stdout",
          "text": [
            "<class 'pandas.core.frame.DataFrame'>\n",
            "RangeIndex: 57325 entries, 0 to 57324\n",
            "Data columns (total 4 columns):\n",
            " #   Column                Non-Null Count  Dtype \n",
            "---  ------                --------------  ----- \n",
            " 0   Unnamed: 0            57325 non-null  int64 \n",
            " 1   index                 57325 non-null  int64 \n",
            " 2   Trích yếu             57325 non-null  object\n",
            " 3   ID phòng xử lý chính  57325 non-null  int64 \n",
            "dtypes: int64(3), object(1)\n",
            "memory usage: 1.7+ MB\n"
          ]
        }
      ]
    },
    {
      "cell_type": "code",
      "source": [
        "dataset.drop(columns=['index', 'Unnamed: 0'], inplace = True)\n",
        "dataset.info()"
      ],
      "metadata": {
        "colab": {
          "base_uri": "https://localhost:8080/"
        },
        "id": "eaOCNdGeXB73",
        "outputId": "2e72a0ca-9458-4ae5-a2b4-24f24ca08279"
      },
      "execution_count": 5,
      "outputs": [
        {
          "output_type": "stream",
          "name": "stdout",
          "text": [
            "<class 'pandas.core.frame.DataFrame'>\n",
            "RangeIndex: 57325 entries, 0 to 57324\n",
            "Data columns (total 2 columns):\n",
            " #   Column                Non-Null Count  Dtype \n",
            "---  ------                --------------  ----- \n",
            " 0   Trích yếu             57325 non-null  object\n",
            " 1   ID phòng xử lý chính  57325 non-null  int64 \n",
            "dtypes: int64(1), object(1)\n",
            "memory usage: 895.8+ KB\n"
          ]
        }
      ]
    },
    {
      "cell_type": "code",
      "source": [
        "!pip install vncorenlp\n",
        "!pip install py_vncorenlp"
      ],
      "metadata": {
        "colab": {
          "base_uri": "https://localhost:8080/"
        },
        "id": "RpT0ePtIxiVO",
        "outputId": "7dc9d10e-92c4-4fa9-bde4-4fc6ea1f710c"
      },
      "execution_count": 6,
      "outputs": [
        {
          "output_type": "stream",
          "name": "stdout",
          "text": [
            "Collecting vncorenlp\n",
            "  Downloading vncorenlp-1.0.3.tar.gz (2.6 MB)\n",
            "\u001b[2K     \u001b[90m━━━━━━━━━━━━━━━━━━━━━━━━━━━━━━━━━━━━━━━━\u001b[0m \u001b[32m2.6/2.6 MB\u001b[0m \u001b[31m11.5 MB/s\u001b[0m eta \u001b[36m0:00:00\u001b[0m\n",
            "\u001b[?25h  Preparing metadata (setup.py) ... \u001b[?25l\u001b[?25hdone\n",
            "Requirement already satisfied: requests in /usr/local/lib/python3.10/dist-packages (from vncorenlp) (2.31.0)\n",
            "Requirement already satisfied: charset-normalizer<4,>=2 in /usr/local/lib/python3.10/dist-packages (from requests->vncorenlp) (3.3.2)\n",
            "Requirement already satisfied: idna<4,>=2.5 in /usr/local/lib/python3.10/dist-packages (from requests->vncorenlp) (3.7)\n",
            "Requirement already satisfied: urllib3<3,>=1.21.1 in /usr/local/lib/python3.10/dist-packages (from requests->vncorenlp) (2.0.7)\n",
            "Requirement already satisfied: certifi>=2017.4.17 in /usr/local/lib/python3.10/dist-packages (from requests->vncorenlp) (2024.2.2)\n",
            "Building wheels for collected packages: vncorenlp\n",
            "  Building wheel for vncorenlp (setup.py) ... \u001b[?25l\u001b[?25hdone\n",
            "  Created wheel for vncorenlp: filename=vncorenlp-1.0.3-py3-none-any.whl size=2645932 sha256=850f195fa05e4c02ef4c02234162800611d4d34571b5e8694088ce959fd89614\n",
            "  Stored in directory: /root/.cache/pip/wheels/5d/d9/b3/41f6c6b1ab758561fd4aab55dc0480b9d7a131c6aaa573a3fa\n",
            "Successfully built vncorenlp\n",
            "Installing collected packages: vncorenlp\n",
            "Successfully installed vncorenlp-1.0.3\n",
            "Collecting py_vncorenlp\n",
            "  Downloading py_vncorenlp-0.1.4.tar.gz (3.9 kB)\n",
            "  Preparing metadata (setup.py) ... \u001b[?25l\u001b[?25hdone\n",
            "Collecting pyjnius (from py_vncorenlp)\n",
            "  Downloading pyjnius-1.6.1-cp310-cp310-manylinux_2_17_x86_64.manylinux2014_x86_64.whl (1.5 MB)\n",
            "\u001b[2K     \u001b[90m━━━━━━━━━━━━━━━━━━━━━━━━━━━━━━━━━━━━━━━━\u001b[0m \u001b[32m1.5/1.5 MB\u001b[0m \u001b[31m7.9 MB/s\u001b[0m eta \u001b[36m0:00:00\u001b[0m\n",
            "\u001b[?25hBuilding wheels for collected packages: py_vncorenlp\n",
            "  Building wheel for py_vncorenlp (setup.py) ... \u001b[?25l\u001b[?25hdone\n",
            "  Created wheel for py_vncorenlp: filename=py_vncorenlp-0.1.4-py3-none-any.whl size=4306 sha256=8567184f32830c5eb4a217df659c89d573ddcb837872830fbbc81d055a103195\n",
            "  Stored in directory: /root/.cache/pip/wheels/d5/d9/bf/62632cdb007c702a0664091e92a0bb1f18a2fcecbe962d9827\n",
            "Successfully built py_vncorenlp\n",
            "Installing collected packages: pyjnius, py_vncorenlp\n",
            "Successfully installed py_vncorenlp-0.1.4 pyjnius-1.6.1\n"
          ]
        }
      ]
    },
    {
      "cell_type": "code",
      "source": [
        "import py_vncorenlp\n",
        "\n",
        "# Automatically download VnCoreNLP components from the original repository\n",
        "# and save them in some local working folder\n",
        "py_vncorenlp.download_model(save_dir='/content/gdrive/MyDrive/VNCoreNLP')"
      ],
      "metadata": {
        "colab": {
          "base_uri": "https://localhost:8080/"
        },
        "id": "SP94xv2Uxp1A",
        "outputId": "0932dc92-46f6-4db6-eaa8-26b79be849ee"
      },
      "execution_count": 7,
      "outputs": [
        {
          "output_type": "stream",
          "name": "stdout",
          "text": [
            "VnCoreNLP model folder /content/gdrive/MyDrive/VNCoreNLP already exists! Please load VnCoreNLP from this folder!\n"
          ]
        }
      ]
    },
    {
      "cell_type": "code",
      "source": [
        "model = py_vncorenlp.VnCoreNLP(save_dir='/content/gdrive/MyDrive/VNCoreNLP')"
      ],
      "metadata": {
        "id": "qDSY2mxexrkv"
      },
      "execution_count": 8,
      "outputs": []
    },
    {
      "cell_type": "code",
      "source": [
        "# CH dấu\n",
        "# Nc đại từ nhân xưng ông bà\n",
        "# M  số\n",
        "# Np danh từ riêng\n",
        "excludePosTags = ['CH', 'Nc', 'M', 'Np']"
      ],
      "metadata": {
        "id": "nqaH7zv_4EZm"
      },
      "execution_count": 12,
      "outputs": []
    },
    {
      "cell_type": "code",
      "source": [
        "def remove_excluded_pos_tags(sentence_dict):\n",
        "  for key in list(sentence_dict.keys()):\n",
        "        # Duyệt qua từng từ trong câu, nhưng bỏ qua các từ có posTag trong exclude_pos_tags\n",
        "        sentence_dict[key] = [word for word in sentence_dict[key] if word['posTag'] not in excludePosTags]\n",
        "  return sentence_dict"
      ],
      "metadata": {
        "id": "Vv_zZ6bf5oVF"
      },
      "execution_count": 13,
      "outputs": []
    },
    {
      "cell_type": "code",
      "source": [
        "def dict_to_string(sentence_dict):\n",
        "    all_sentences = []\n",
        "\n",
        "    # Duyệt qua từng câu trong dictionary\n",
        "    for key in sentence_dict.keys():\n",
        "        # Lấy danh sách các từ (wordForm) cho mỗi câu và nối chúng lại thành một chuỗi\n",
        "        sentence = ' '.join(word['wordForm'] for word in sentence_dict[key])\n",
        "        all_sentences.append(sentence)\n",
        "\n",
        "    # Nối tất cả các câu thành một chuỗi duy nhất, mỗi câu cách nhau bởi một dấu chấm câu\n",
        "    return ' '.join(all_sentences)"
      ],
      "metadata": {
        "id": "KLTvzcH-50Dz"
      },
      "execution_count": 14,
      "outputs": []
    },
    {
      "cell_type": "code",
      "source": [
        "#Test\n",
        "text = 'Nguyễn Đắc Cường là một học sinh chăm ngoan. Và anh ấy rất đẹp trai'\n",
        "text_annotate = model.annotate_text(text)\n",
        "print(text_annotate)\n",
        "#remove tags\n",
        "dict_remove = remove_excluded_pos_tags(text_annotate)\n",
        "print(dict_remove)\n",
        "#toString\n",
        "text_toString = dict_to_string(dict_remove)\n",
        "print(text_toString)"
      ],
      "metadata": {
        "colab": {
          "base_uri": "https://localhost:8080/"
        },
        "id": "DSKxp1zV2I43",
        "outputId": "e607fac0-1636-42ec-a589-d4b545740f35"
      },
      "execution_count": 18,
      "outputs": [
        {
          "output_type": "stream",
          "name": "stdout",
          "text": [
            "{0: [{'index': 1, 'wordForm': 'Nguyễn_Đắc_Cường', 'posTag': 'Np', 'nerLabel': 'B-PER', 'head': 2, 'depLabel': 'sub'}, {'index': 2, 'wordForm': 'là', 'posTag': 'V', 'nerLabel': 'O', 'head': 0, 'depLabel': 'root'}, {'index': 3, 'wordForm': 'một', 'posTag': 'M', 'nerLabel': 'O', 'head': 4, 'depLabel': 'det'}, {'index': 4, 'wordForm': 'học_sinh', 'posTag': 'N', 'nerLabel': 'O', 'head': 2, 'depLabel': 'dob'}, {'index': 5, 'wordForm': 'chăm', 'posTag': 'V', 'nerLabel': 'O', 'head': 4, 'depLabel': 'nmod'}, {'index': 6, 'wordForm': 'ngoan', 'posTag': 'A', 'nerLabel': 'O', 'head': 5, 'depLabel': 'vmod'}, {'index': 7, 'wordForm': '.', 'posTag': 'CH', 'nerLabel': 'O', 'head': 2, 'depLabel': 'punct'}], 1: [{'index': 1, 'wordForm': 'Và', 'posTag': 'Cc', 'nerLabel': 'O', 'head': 5, 'depLabel': 'dep'}, {'index': 2, 'wordForm': 'anh', 'posTag': 'N', 'nerLabel': 'O', 'head': 5, 'depLabel': 'sub'}, {'index': 3, 'wordForm': 'ấy', 'posTag': 'P', 'nerLabel': 'O', 'head': 2, 'depLabel': 'det'}, {'index': 4, 'wordForm': 'rất', 'posTag': 'R', 'nerLabel': 'O', 'head': 5, 'depLabel': 'amod'}, {'index': 5, 'wordForm': 'đẹp_trai', 'posTag': 'A', 'nerLabel': 'O', 'head': 0, 'depLabel': 'root'}]}\n",
            "{0: [{'index': 2, 'wordForm': 'là', 'posTag': 'V', 'nerLabel': 'O', 'head': 0, 'depLabel': 'root'}, {'index': 4, 'wordForm': 'học_sinh', 'posTag': 'N', 'nerLabel': 'O', 'head': 2, 'depLabel': 'dob'}, {'index': 5, 'wordForm': 'chăm', 'posTag': 'V', 'nerLabel': 'O', 'head': 4, 'depLabel': 'nmod'}, {'index': 6, 'wordForm': 'ngoan', 'posTag': 'A', 'nerLabel': 'O', 'head': 5, 'depLabel': 'vmod'}], 1: [{'index': 1, 'wordForm': 'Và', 'posTag': 'Cc', 'nerLabel': 'O', 'head': 5, 'depLabel': 'dep'}, {'index': 2, 'wordForm': 'anh', 'posTag': 'N', 'nerLabel': 'O', 'head': 5, 'depLabel': 'sub'}, {'index': 3, 'wordForm': 'ấy', 'posTag': 'P', 'nerLabel': 'O', 'head': 2, 'depLabel': 'det'}, {'index': 4, 'wordForm': 'rất', 'posTag': 'R', 'nerLabel': 'O', 'head': 5, 'depLabel': 'amod'}, {'index': 5, 'wordForm': 'đẹp_trai', 'posTag': 'A', 'nerLabel': 'O', 'head': 0, 'depLabel': 'root'}]}\n",
            "là học_sinh chăm ngoan Và anh ấy rất đẹp_trai\n"
          ]
        }
      ]
    },
    {
      "cell_type": "code",
      "source": [
        "stopwords = set()\n",
        "#open file stopword\n",
        "with open('/content/gdrive/MyDrive/Dataset/Stopwords/vietnamese-stopwords-dash.txt', \"r\") as file:\n",
        "  word = file.readlines()\n",
        "stopwords = [n.replace('\\n', '') for n in word]"
      ],
      "metadata": {
        "id": "Sqvn2-jm0eYf"
      },
      "execution_count": 16,
      "outputs": []
    },
    {
      "cell_type": "code",
      "source": [
        "print(stopwords)"
      ],
      "metadata": {
        "colab": {
          "base_uri": "https://localhost:8080/"
        },
        "id": "-ALhvg8-0gPW",
        "outputId": "439cb6b2-5832-48dc-916c-e41bccff5c13"
      },
      "execution_count": 17,
      "outputs": [
        {
          "output_type": "stream",
          "name": "stdout",
          "text": [
            "['a_lô', 'a_ha', 'ai', 'ai_ai', 'ai_nấy', 'ai_đó', 'alô', 'amen', 'anh', 'anh_ấy', 'ba', 'ba_ba', 'ba_bản', 'ba_cùng', 'ba_họ', 'ba_ngày', 'ba_ngôi', 'ba_tăng', 'bao_giờ', 'bao_lâu', 'bao_nhiêu', 'bao_nả', 'bay_biến', 'biết', 'biết_bao', 'biết_bao_nhiêu', 'biết_chắc', 'biết_chừng_nào', 'biết_mình', 'biết_mấy', 'biết_thế', 'biết_trước', 'biết_việc', 'biết_đâu', 'biết_đâu_chừng', 'biết_đâu_đấy', 'biết_được', 'buổi', 'buổi_làm', 'buổi_mới', 'buổi_ngày', 'buổi_sớm', 'bà', 'bà_ấy', 'bài', 'bài_bác', 'bài_bỏ', 'bài_cái', 'bác', 'bán', 'bán_cấp', 'bán_dạ', 'bán_thế', 'bây_bẩy', 'bây_chừ', 'bây_giờ', 'bây_nhiêu', 'bèn', 'béng', 'bên', 'bên_bị', 'bên_có', 'bên_cạnh', 'bông', 'bước', 'bước_khỏi', 'bước_tới', 'bước_đi', 'bạn', 'bản', 'bản_bộ', 'bản_riêng', 'bản_thân', 'bản_ý', 'bất_chợt', 'bất_cứ', 'bất_giác', 'bất_kì', 'bất_kể', 'bất_kỳ', 'bất_luận', 'bất_ngờ', 'bất_nhược', 'bất_quá', 'bất_quá_chỉ', 'bất_thình_lình', 'bất_tử', 'bất_đồ', 'bấy', 'bấy_chầy', 'bấy_chừ', 'bấy_giờ', 'bấy_lâu', 'bấy_lâu_nay', 'bấy_nay', 'bấy_nhiêu', 'bập_bà_bập_bõm', 'bập_bõm', 'bắt_đầu', 'bắt_đầu_từ', 'bằng', 'bằng_cứ', 'bằng_không', 'bằng_người', 'bằng_nhau', 'bằng_như', 'bằng_nào', 'bằng_nấy', 'bằng_vào', 'bằng_được', 'bằng_ấy', 'bển', 'bệt', 'bị', 'bị_chú', 'bị_vì', 'bỏ', 'bỏ_bà', 'bỏ_cha', 'bỏ_cuộc', 'bỏ_không', 'bỏ_lại', 'bỏ_mình', 'bỏ_mất', 'bỏ_mẹ', 'bỏ_nhỏ', 'bỏ_quá', 'bỏ_ra', 'bỏ_riêng', 'bỏ_việc', 'bỏ_xa', 'bỗng', 'bỗng_chốc', 'bỗng_dưng', 'bỗng_không', 'bỗng_nhiên', 'bỗng_nhưng', 'bỗng_thấy', 'bỗng_đâu', 'bộ', 'bộ_thuộc', 'bộ_điều', 'bội_phần', 'bớ', 'bởi', 'bởi_ai', 'bởi_chưng', 'bởi_nhưng', 'bởi_sao', 'bởi_thế', 'bởi_thế_cho_nên', 'bởi_tại', 'bởi_vì', 'bởi_vậy', 'bởi_đâu', 'bức', 'cao', 'cao_lâu', 'cao_ráo', 'cao_răng', 'cao_sang', 'cao_số', 'cao_thấp', 'cao_thế', 'cao_xa', 'cha', 'cha_chả', 'chao_ôi', 'chia_sẻ', 'chiếc', 'cho', 'cho_biết', 'cho_chắc', 'cho_hay', 'cho_nhau', 'cho_nên', 'cho_rằng', 'cho_rồi', 'cho_thấy', 'cho_tin', 'cho_tới', 'cho_tới_khi', 'cho_về', 'cho_ăn', 'cho_đang', 'cho_được', 'cho_đến', 'cho_đến_khi', 'cho_đến_nỗi', 'choa', 'chu_cha', 'chui_cha', 'chung', 'chung_cho', 'chung_chung', 'chung_cuộc', 'chung_cục', 'chung_nhau', 'chung_qui', 'chung_quy', 'chung_quy_lại', 'chung_ái', 'chuyển', 'chuyển_tự', 'chuyển_đạt', 'chuyện', 'chuẩn_bị', 'chành_chạnh', 'chí_chết', 'chính', 'chính_bản', 'chính_giữa', 'chính_là', 'chính_thị', 'chính_điểm', 'chùn_chùn', 'chùn_chũn', 'chú', 'chú_dẫn', 'chú_khách', 'chú_mày', 'chú_mình', 'chúng', 'chúng_mình', 'chúng_ta', 'chúng_tôi', 'chúng_ông', 'chăn_chắn', 'chăng', 'chăng_chắc', 'chăng_nữa', 'chơi', 'chơi_họ', 'chưa', 'chưa_bao_giờ', 'chưa_chắc', 'chưa_có', 'chưa_cần', 'chưa_dùng', 'chưa_dễ', 'chưa_kể', 'chưa_tính', 'chưa_từng', 'chầm_chập', 'chậc', 'chắc', 'chắc_chắn', 'chắc_dạ', 'chắc_hẳn', 'chắc_lòng', 'chắc_người', 'chắc_vào', 'chắc_ăn', 'chẳng_lẽ', 'chẳng_những', 'chẳng_nữa', 'chẳng_phải', 'chết_nỗi', 'chết_thật', 'chết_tiệt', 'chỉ', 'chỉ_chính', 'chỉ_có', 'chỉ_là', 'chỉ_tên', 'chỉn', 'chị', 'chị_bộ', 'chị_ấy', 'chịu', 'chịu_chưa', 'chịu_lời', 'chịu_tốt', 'chịu_ăn', 'chọn', 'chọn_bên', 'chọn_ra', 'chốc_chốc', 'chớ', 'chớ_chi', 'chớ_gì', 'chớ_không', 'chớ_kể', 'chớ_như', 'chợt', 'chợt_nghe', 'chợt_nhìn', 'chủn', 'chứ', 'chứ_ai', 'chứ_còn', 'chứ_gì', 'chứ_không', 'chứ_không_phải', 'chứ_lại', 'chứ_lị', 'chứ_như', 'chứ_sao', 'coi_bộ', 'coi_mòi', 'con', 'con_con', 'con_dạ', 'con_nhà', 'con_tính', 'cu_cậu', 'cuối', 'cuối_cùng', 'cuối_điểm', 'cuốn', 'cuộc', 'càng', 'càng_càng', 'càng_hay', 'cá_nhân', 'các', 'các_cậu', 'cách', 'cách_bức', 'cách_không', 'cách_nhau', 'cách_đều', 'cái', 'cái_gì', 'cái_họ', 'cái_đã', 'cái_đó', 'cái_ấy', 'câu_hỏi', 'cây', 'cây_nước', 'còn', 'còn_như', 'còn_nữa', 'còn_thời_gian', 'còn_về', 'có', 'có_ai', 'có_chuyện', 'có_chăng', 'có_chăng_là', 'có_chứ', 'có_cơ', 'có_dễ', 'có_họ', 'có_khi', 'có_ngày', 'có_người', 'có_nhiều', 'có_nhà', 'có_phải', 'có_số', 'có_tháng', 'có_thế', 'có_thể', 'có_vẻ', 'có_ý', 'có_ăn', 'có_điều', 'có_điều_kiện', 'có_đáng', 'có_đâu', 'có_được', 'cóc_khô', 'cô', 'cô_mình', 'cô_quả', 'cô_tăng', 'cô_ấy', 'công_nhiên', 'cùng', 'cùng_chung', 'cùng_cực', 'cùng_nhau', 'cùng_tuổi', 'cùng_tột', 'cùng_với', 'cùng_ăn', 'căn', 'căn_cái', 'căn_cắt', 'căn_tính', 'cũng', 'cũng_như', 'cũng_nên', 'cũng_thế', 'cũng_vậy', 'cũng_vậy_thôi', 'cũng_được', 'cơ', 'cơ_chỉ', 'cơ_chừng', 'cơ_cùng', 'cơ_dẫn', 'cơ_hồ', 'cơ_hội', 'cơ_mà', 'cơn', 'cả', 'cả_nghe', 'cả_nghĩ', 'cả_ngày', 'cả_người', 'cả_nhà', 'cả_năm', 'cả_thảy', 'cả_thể', 'cả_tin', 'cả_ăn', 'cả_đến', 'cảm_thấy', 'cảm_ơn', 'cấp', 'cấp_số', 'cấp_trực_tiếp', 'cần', 'cần_cấp', 'cần_gì', 'cần_số', 'cật_lực', 'cật_sức', 'cậu', 'cổ_lai', 'cụ_thể', 'cụ_thể_là', 'cụ_thể_như', 'của', 'của_ngọt', 'của_tin', 'cứ', 'cứ_như', 'cứ_việc', 'cứ_điểm', 'cực_lực', 'do', 'do_vì', 'do_vậy', 'do_đó', 'duy', 'duy_chỉ', 'duy_có', 'dài', 'dài_lời', 'dài_ra', 'dành', 'dành_dành', 'dào', 'dì', 'dù', 'dù_cho', 'dù_dì', 'dù_gì', 'dù_rằng', 'dù_sao', 'dùng', 'dùng_cho', 'dùng_hết', 'dùng_làm', 'dùng_đến', 'dưới', 'dưới_nước', 'dạ', 'dạ_bán', 'dạ_con', 'dạ_dài', 'dạ_dạ', 'dạ_khách', 'dần_dà', 'dần_dần', 'dầu_sao', 'dẫn', 'dẫu', 'dẫu_mà', 'dẫu_rằng', 'dẫu_sao', 'dễ', 'dễ_dùng', 'dễ_gì', 'dễ_khiến', 'dễ_nghe', 'dễ_ngươi', 'dễ_như_chơi', 'dễ_sợ', 'dễ_sử_dụng', 'dễ_thường', 'dễ_thấy', 'dễ_ăn', 'dễ_đâu', 'dở_chừng', 'dữ', 'dữ_cách', 'em', 'em_em', 'giá_trị', 'giá_trị_thực_tế', 'giảm', 'giảm_chính', 'giảm_thấp', 'giảm_thế', 'giống', 'giống_người', 'giống_nhau', 'giống_như', 'giờ', 'giờ_lâu', 'giờ_này', 'giờ_đi', 'giờ_đây', 'giờ_đến', 'giữ', 'giữ_lấy', 'giữ_ý', 'giữa', 'giữa_lúc', 'gây', 'gây_cho', 'gây_giống', 'gây_ra', 'gây_thêm', 'gì', 'gì_gì', 'gì_đó', 'gần', 'gần_bên', 'gần_hết', 'gần_ngày', 'gần_như', 'gần_xa', 'gần_đây', 'gần_đến', 'gặp', 'gặp_khó_khăn', 'gặp_phải', 'gồm', 'hay', 'hay_biết', 'hay_hay', 'hay_không', 'hay_là', 'hay_làm', 'hay_nhỉ', 'hay_nói', 'hay_sao', 'hay_tin', 'hay_đâu', 'hiểu', 'hiện_nay', 'hiện_tại', 'hoàn_toàn', 'hoặc', 'hoặc_là', 'hãy', 'hãy_còn', 'hơn', 'hơn_cả', 'hơn_hết', 'hơn_là', 'hơn_nữa', 'hơn_trước', 'hầu_hết', 'hết', 'hết_chuyện', 'hết_cả', 'hết_của', 'hết_nói', 'hết_ráo', 'hết_rồi', 'hết_ý', 'họ', 'họ_gần', 'họ_xa', 'hỏi', 'hỏi_lại', 'hỏi_xem', 'hỏi_xin', 'hỗ_trợ', 'khi', 'khi_khác', 'khi_không', 'khi_nào', 'khi_nên', 'khi_trước', 'khiến', 'khoảng', 'khoảng_cách', 'khoảng_không', 'khá', 'khá_tốt', 'khác', 'khác_gì', 'khác_khác', 'khác_nhau', 'khác_nào', 'khác_thường', 'khác_xa', 'khách', 'khó', 'khó_biết', 'khó_chơi', 'khó_khăn', 'khó_làm', 'khó_mở', 'khó_nghe', 'khó_nghĩ', 'khó_nói', 'khó_thấy', 'khó_tránh', 'không', 'không_ai', 'không_bao_giờ', 'không_bao_lâu', 'không_biết', 'không_bán', 'không_chỉ', 'không_còn', 'không_có', 'không_có_gì', 'không_cùng', 'không_cần', 'không_cứ', 'không_dùng', 'không_gì', 'không_hay', 'không_khỏi', 'không_kể', 'không_ngoài', 'không_nhận', 'không_những', 'không_phải', 'không_phải_không', 'không_thể', 'không_tính', 'không_điều_kiện', 'không_được', 'không_đầy', 'không_để', 'khẳng_định', 'khỏi', 'khỏi_nói', 'kể', 'kể_cả', 'kể_như', 'kể_tới', 'kể_từ', 'liên_quan', 'loại', 'loại_từ', 'luôn', 'luôn_cả', 'luôn_luôn', 'luôn_tay', 'là', 'là_cùng', 'là_là', 'là_nhiều', 'là_phải', 'là_thế_nào', 'là_vì', 'là_ít', 'làm', 'làm_bằng', 'làm_cho', 'làm_dần_dần', 'làm_gì', 'làm_lòng', 'làm_lại', 'làm_lấy', 'làm_mất', 'làm_ngay', 'làm_như', 'làm_nên', 'làm_ra', 'làm_riêng', 'làm_sao', 'làm_theo', 'làm_thế_nào', 'làm_tin', 'làm_tôi', 'làm_tăng', 'làm_tại', 'làm_tắp_lự', 'làm_vì', 'làm_đúng', 'làm_được', 'lâu', 'lâu_các', 'lâu_lâu', 'lâu_nay', 'lâu_ngày', 'lên', 'lên_cao', 'lên_cơn', 'lên_mạnh', 'lên_ngôi', 'lên_nước', 'lên_số', 'lên_xuống', 'lên_đến', 'lòng', 'lòng_không', 'lúc', 'lúc_khác', 'lúc_lâu', 'lúc_nào', 'lúc_này', 'lúc_sáng', 'lúc_trước', 'lúc_đi', 'lúc_đó', 'lúc_đến', 'lúc_ấy', 'lý_do', 'lượng', 'lượng_cả', 'lượng_số', 'lượng_từ', 'lại', 'lại_bộ', 'lại_cái', 'lại_còn', 'lại_giống', 'lại_làm', 'lại_người', 'lại_nói', 'lại_nữa', 'lại_quả', 'lại_thôi', 'lại_ăn', 'lại_đây', 'lấy', 'lấy_có', 'lấy_cả', 'lấy_giống', 'lấy_làm', 'lấy_lý_do', 'lấy_lại', 'lấy_ra', 'lấy_ráo', 'lấy_sau', 'lấy_số', 'lấy_thêm', 'lấy_thế', 'lấy_vào', 'lấy_xuống', 'lấy_được', 'lấy_để', 'lần', 'lần_khác', 'lần_lần', 'lần_nào', 'lần_này', 'lần_sang', 'lần_sau', 'lần_theo', 'lần_trước', 'lần_tìm', 'lớn', 'lớn_lên', 'lớn_nhỏ', 'lời', 'lời_chú', 'lời_nói', 'mang', 'mang_lại', 'mang_mang', 'mang_nặng', 'mang_về', 'muốn', 'mà', 'mà_cả', 'mà_không', 'mà_lại', 'mà_thôi', 'mà_vẫn', 'mình', 'mạnh', 'mất', 'mất_còn', 'mọi', 'mọi_giờ', 'mọi_khi', 'mọi_lúc', 'mọi_người', 'mọi_nơi', 'mọi_sự', 'mọi_thứ', 'mọi_việc', 'mối', 'mỗi', 'mỗi_lúc', 'mỗi_lần', 'mỗi_một', 'mỗi_ngày', 'mỗi_người', 'một', 'một_cách', 'một_cơn', 'một_khi', 'một_lúc', 'một_số', 'một_vài', 'một_ít', 'mới', 'mới_hay', 'mới_rồi', 'mới_đây', 'mở', 'mở_mang', 'mở_nước', 'mở_ra', 'mợ', 'mức', 'nay', 'ngay', 'ngay_bây_giờ', 'ngay_cả', 'ngay_khi', 'ngay_khi_đến', 'ngay_lúc', 'ngay_lúc_này', 'ngay_lập_tức', 'ngay_thật', 'ngay_tức_khắc', 'ngay_tức_thì', 'ngay_từ', 'nghe', 'nghe_chừng', 'nghe_hiểu', 'nghe_không', 'nghe_lại', 'nghe_nhìn', 'nghe_như', 'nghe_nói', 'nghe_ra', 'nghe_rõ', 'nghe_thấy', 'nghe_tin', 'nghe_trực_tiếp', 'nghe_đâu', 'nghe_đâu_như', 'nghe_được', 'nghen', 'nghiễm_nhiên', 'nghĩ', 'nghĩ_lại', 'nghĩ_ra', 'nghĩ_tới', 'nghĩ_xa', 'nghĩ_đến', 'nghỉm', 'ngoài', 'ngoài_này', 'ngoài_ra', 'ngoài_xa', 'ngoải', 'nguồn', 'ngày', 'ngày_càng', 'ngày_cấp', 'ngày_giờ', 'ngày_ngày', 'ngày_nào', 'ngày_này', 'ngày_nọ', 'ngày_qua', 'ngày_rày', 'ngày_tháng', 'ngày_xưa', 'ngày_xửa', 'ngày_đến', 'ngày_ấy', 'ngôi', 'ngôi_nhà', 'ngôi_thứ', 'ngõ_hầu', 'ngăn_ngắt', 'ngươi', 'người', 'người_hỏi', 'người_khác', 'người_khách', 'người_mình', 'người_nghe', 'người_người', 'người_nhận', 'ngọn', 'ngọn_nguồn', 'ngọt', 'ngồi', 'ngồi_bệt', 'ngồi_không', 'ngồi_sau', 'ngồi_trệt', 'ngộ_nhỡ', 'nhanh', 'nhanh_lên', 'nhanh_tay', 'nhau', 'nhiên_hậu', 'nhiều', 'nhiều_ít', 'nhiệt_liệt', 'nhung_nhăng', 'nhà', 'nhà_chung', 'nhà_khó', 'nhà_làm', 'nhà_ngoài', 'nhà_ngươi', 'nhà_tôi', 'nhà_việc', 'nhân_dịp', 'nhân_tiện', 'nhé', 'nhìn', 'nhìn_chung', 'nhìn_lại', 'nhìn_nhận', 'nhìn_theo', 'nhìn_thấy', 'nhìn_xuống', 'nhóm', 'nhón_nhén', 'như', 'như_ai', 'như_chơi', 'như_không', 'như_là', 'như_nhau', 'như_quả', 'như_sau', 'như_thường', 'như_thế', 'như_thế_nào', 'như_thể', 'như_trên', 'như_trước', 'như_tuồng', 'như_vậy', 'như_ý', 'nhưng', 'nhưng_mà', 'nhược_bằng', 'nhất', 'nhất_loạt', 'nhất_luật', 'nhất_là', 'nhất_mực', 'nhất_nhất', 'nhất_quyết', 'nhất_sinh', 'nhất_thiết', 'nhất_thì', 'nhất_tâm', 'nhất_tề', 'nhất_đán', 'nhất_định', 'nhận', 'nhận_biết', 'nhận_họ', 'nhận_làm', 'nhận_nhau', 'nhận_ra', 'nhận_thấy', 'nhận_việc', 'nhận_được', 'nhằm', 'nhằm_khi', 'nhằm_lúc', 'nhằm_vào', 'nhằm_để', 'nhỉ', 'nhỏ', 'nhỏ_người', 'nhớ', 'nhớ_bập_bõm', 'nhớ_lại', 'nhớ_lấy', 'nhớ_ra', 'nhờ', 'nhờ_chuyển', 'nhờ_có', 'nhờ_nhờ', 'nhờ_đó', 'nhỡ_ra', 'những', 'những_ai', 'những_khi', 'những_là', 'những_lúc', 'những_muốn', 'những_như', 'nào', 'nào_cũng', 'nào_hay', 'nào_là', 'nào_phải', 'nào_đâu', 'nào_đó', 'này', 'này_nọ', 'nên', 'nên_chi', 'nên_chăng', 'nên_làm', 'nên_người', 'nên_tránh', 'nó', 'nóc', 'nói', 'nói_bông', 'nói_chung', 'nói_khó', 'nói_là', 'nói_lên', 'nói_lại', 'nói_nhỏ', 'nói_phải', 'nói_qua', 'nói_ra', 'nói_riêng', 'nói_rõ', 'nói_thêm', 'nói_thật', 'nói_toẹt', 'nói_trước', 'nói_tốt', 'nói_với', 'nói_xa', 'nói_ý', 'nói_đến', 'nói_đủ', 'năm', 'năm_tháng', 'nơi', 'nơi_nơi', 'nước', 'nước_bài', 'nước_cùng', 'nước_lên', 'nước_nặng', 'nước_quả', 'nước_xuống', 'nước_ăn', 'nước_đến', 'nấy', 'nặng', 'nặng_căn', 'nặng_mình', 'nặng_về', 'nếu', 'nếu_có', 'nếu_cần', 'nếu_không', 'nếu_mà', 'nếu_như', 'nếu_thế', 'nếu_vậy', 'nếu_được', 'nền', 'nọ', 'nớ', 'nức_nở', 'nữa', 'nữa_khi', 'nữa_là', 'nữa_rồi', 'oai_oái', 'oái', 'pho', 'phè', 'phè_phè', 'phía', 'phía_bên', 'phía_bạn', 'phía_dưới', 'phía_sau', 'phía_trong', 'phía_trên', 'phía_trước', 'phóc', 'phót', 'phù_hợp', 'phăn_phắt', 'phương_chi', 'phải', 'phải_biết', 'phải_chi', 'phải_chăng', 'phải_cách', 'phải_cái', 'phải_giờ', 'phải_khi', 'phải_không', 'phải_lại', 'phải_lời', 'phải_người', 'phải_như', 'phải_rồi', 'phải_tay', 'phần', 'phần_lớn', 'phần_nhiều', 'phần_nào', 'phần_sau', 'phần_việc', 'phắt', 'phỉ_phui', 'phỏng', 'phỏng_như', 'phỏng_nước', 'phỏng_theo', 'phỏng_tính', 'phốc', 'phụt', 'phứt', 'qua', 'qua_chuyện', 'qua_khỏi', 'qua_lại', 'qua_lần', 'qua_ngày', 'qua_tay', 'qua_thì', 'qua_đi', 'quan_trọng', 'quan_trọng_vấn_đề', 'quan_tâm', 'quay', 'quay_bước', 'quay_lại', 'quay_số', 'quay_đi', 'quá', 'quá_bán', 'quá_bộ', 'quá_giờ', 'quá_lời', 'quá_mức', 'quá_nhiều', 'quá_tay', 'quá_thì', 'quá_tin', 'quá_trình', 'quá_tuổi', 'quá_đáng', 'quá_ư', 'quả', 'quả_là', 'quả_thật', 'quả_thế', 'quả_vậy', 'quận', 'ra', 'ra_bài', 'ra_bộ', 'ra_chơi', 'ra_gì', 'ra_lại', 'ra_lời', 'ra_ngôi', 'ra_người', 'ra_sao', 'ra_tay', 'ra_vào', 'ra_ý', 'ra_điều', 'ra_đây', 'ren_rén', 'riu_ríu', 'riêng', 'riêng_từng', 'riệt', 'rày', 'ráo', 'ráo_cả', 'ráo_nước', 'ráo_trọi', 'rén', 'rén_bước', 'rích', 'rón_rén', 'rõ', 'rõ_là', 'rõ_thật', 'rút_cục', 'răng', 'răng_răng', 'rất', 'rất_lâu', 'rằng', 'rằng_là', 'rốt_cuộc', 'rốt_cục', 'rồi', 'rồi_nữa', 'rồi_ra', 'rồi_sao', 'rồi_sau', 'rồi_tay', 'rồi_thì', 'rồi_xem', 'rồi_đây', 'rứa', 'sa_sả', 'sang', 'sang_năm', 'sang_sáng', 'sang_tay', 'sao', 'sao_bản', 'sao_bằng', 'sao_cho', 'sao_vậy', 'sao_đang', 'sau', 'sau_chót', 'sau_cuối', 'sau_cùng', 'sau_hết', 'sau_này', 'sau_nữa', 'sau_sau', 'sau_đây', 'sau_đó', 'so', 'so_với', 'song_le', 'suýt', 'suýt_nữa', 'sáng', 'sáng_ngày', 'sáng_rõ', 'sáng_thế', 'sáng_ý', 'sì', 'sì_sì', 'sất', 'sắp', 'sắp_đặt', 'sẽ', 'sẽ_biết', 'sẽ_hay', 'số', 'số_cho_biết', 'số_cụ_thể', 'số_loại', 'số_là', 'số_người', 'số_phần', 'số_thiếu', 'sốt_sột', 'sớm', 'sớm_ngày', 'sở_dĩ', 'sử_dụng', 'sự', 'sự_thế', 'sự_việc', 'tanh', 'tanh_tanh', 'tay', 'tay_quay', 'tha_hồ', 'tha_hồ_chơi', 'tha_hồ_ăn', 'than_ôi', 'thanh', 'thanh_ba', 'thanh_chuyển', 'thanh_không', 'thanh_thanh', 'thanh_tính', 'thanh_điều_kiện', 'thanh_điểm', 'thay_đổi', 'thay_đổi_tình_trạng', 'theo', 'theo_bước', 'theo_như', 'theo_tin', 'thi_thoảng', 'thiếu', 'thiếu_gì', 'thiếu_điểm', 'thoạt', 'thoạt_nghe', 'thoạt_nhiên', 'thoắt', 'thuần', 'thuần_ái', 'thuộc', 'thuộc_bài', 'thuộc_cách', 'thuộc_lại', 'thuộc_từ', 'thà', 'thà_là', 'thà_rằng', 'thành_ra', 'thành_thử', 'thái_quá', 'tháng', 'tháng_ngày', 'tháng_năm', 'tháng_tháng', 'thêm', 'thêm_chuyện', 'thêm_giờ', 'thêm_vào', 'thì', 'thì_giờ', 'thì_là', 'thì_phải', 'thì_ra', 'thì_thôi', 'thình_lình', 'thích', 'thích_cứ', 'thích_thuộc', 'thích_tự', 'thích_ý', 'thím', 'thôi', 'thôi_việc', 'thúng_thắng', 'thương_ôi', 'thường', 'thường_bị', 'thường_hay', 'thường_khi', 'thường_số', 'thường_sự', 'thường_thôi', 'thường_thường', 'thường_tính', 'thường_tại', 'thường_xuất_hiện', 'thường_đến', 'thảo_hèn', 'thảo_nào', 'thấp', 'thấp_cơ', 'thấp_thỏm', 'thấp_xuống', 'thấy', 'thấy_tháng', 'thẩy', 'thậm', 'thậm_chí', 'thậm_cấp', 'thậm_từ', 'thật', 'thật_chắc', 'thật_là', 'thật_lực', 'thật_quả', 'thật_ra', 'thật_sự', 'thật_thà', 'thật_tốt', 'thật_vậy', 'thế', 'thế_chuẩn_bị', 'thế_là', 'thế_lại', 'thế_mà', 'thế_nào', 'thế_nên', 'thế_ra', 'thế_sự', 'thế_thì', 'thế_thôi', 'thế_thường', 'thế_thế', 'thế_à', 'thế_đó', 'thếch', 'thỉnh_thoảng', 'thỏm', 'thốc', 'thốc_tháo', 'thốt', 'thốt_nhiên', 'thốt_nói', 'thốt_thôi', 'thộc', 'thời_gian', 'thời_gian_sử_dụng', 'thời_gian_tính', 'thời_điểm', 'thục_mạng', 'thứ', 'thứ_bản', 'thứ_đến', 'thửa', 'thực_hiện', 'thực_hiện_đúng', 'thực_ra', 'thực_sự', 'thực_tế', 'thực_vậy', 'tin', 'tin_thêm', 'tin_vào', 'tiếp_theo', 'tiếp_tục', 'tiếp_đó', 'tiện_thể', 'toà', 'toé_khói', 'toẹt', 'trong', 'trong_khi', 'trong_lúc', 'trong_mình', 'trong_ngoài', 'trong_này', 'trong_số', 'trong_vùng', 'trong_đó', 'trong_ấy', 'tránh', 'tránh_khỏi', 'tránh_ra', 'tránh_tình_trạng', 'tránh_xa', 'trên', 'trên_bộ', 'trên_dưới', 'trước', 'trước_hết', 'trước_khi', 'trước_kia', 'trước_nay', 'trước_ngày', 'trước_nhất', 'trước_sau', 'trước_tiên', 'trước_tuổi', 'trước_đây', 'trước_đó', 'trả', 'trả_của', 'trả_lại', 'trả_ngay', 'trả_trước', 'trếu_tráo', 'trển', 'trệt', 'trệu_trạo', 'trỏng', 'trời_đất_ơi', 'trở_thành', 'trừ_phi', 'trực_tiếp', 'trực_tiếp_làm', 'tuy', 'tuy_có', 'tuy_là', 'tuy_nhiên', 'tuy_rằng', 'tuy_thế', 'tuy_vậy', 'tuy_đã', 'tuyệt_nhiên', 'tuần_tự', 'tuốt_luốt', 'tuốt_tuồn_tuột', 'tuốt_tuột', 'tuổi', 'tuổi_cả', 'tuổi_tôi', 'tà_tà', 'tên', 'tên_chính', 'tên_cái', 'tên_họ', 'tên_tự', 'tênh', 'tênh_tênh', 'tìm', 'tìm_bạn', 'tìm_cách', 'tìm_hiểu', 'tìm_ra', 'tìm_việc', 'tình_trạng', 'tính', 'tính_cách', 'tính_căn', 'tính_người', 'tính_phỏng', 'tính_từ', 'tít_mù', 'tò_te', 'tôi', 'tôi_con', 'tông_tốc', 'tù_tì', 'tăm_tắp', 'tăng', 'tăng_chúng', 'tăng_cấp', 'tăng_giảm', 'tăng_thêm', 'tăng_thế', 'tại', 'tại_lòng', 'tại_nơi', 'tại_sao', 'tại_tôi', 'tại_vì', 'tại_đâu', 'tại_đây', 'tại_đó', 'tạo', 'tạo_cơ_hội', 'tạo_nên', 'tạo_ra', 'tạo_ý', 'tạo_điều_kiện', 'tấm', 'tấm_bản', 'tấm_các', 'tấn', 'tấn_tới', 'tất_cả', 'tất_cả_bao_nhiêu', 'tất_thảy', 'tất_tần_tật', 'tất_tật', 'tập_trung', 'tắp', 'tắp_lự', 'tắp_tắp', 'tọt', 'tỏ_ra', 'tỏ_vẻ', 'tốc_tả', 'tối_ư', 'tốt', 'tốt_bạn', 'tốt_bộ', 'tốt_hơn', 'tốt_mối', 'tốt_ngày', 'tột', 'tột_cùng', 'tớ', 'tới', 'tới_gần', 'tới_mức', 'tới_nơi', 'tới_thì', 'tức_thì', 'tức_tốc', 'từ', 'từ_căn', 'từ_giờ', 'từ_khi', 'từ_loại', 'từ_nay', 'từ_thế', 'từ_tính', 'từ_tại', 'từ_từ', 'từ_ái', 'từ_điều', 'từ_đó', 'từ_ấy', 'từng', 'từng_cái', 'từng_giờ', 'từng_nhà', 'từng_phần', 'từng_thời_gian', 'từng_đơn_vị', 'từng_ấy', 'tự', 'tự_cao', 'tự_khi', 'tự_lượng', 'tự_tính', 'tự_tạo', 'tự_vì', 'tự_ý', 'tự_ăn', 'tựu_trung', 'veo', 'veo_veo', 'việc', 'việc_gì', 'vung_thiên_địa', 'vung_tàn_tán', 'vung_tán_tàn', 'và', 'vài', 'vài_ba', 'vài_người', 'vài_nhà', 'vài_nơi', 'vài_tên', 'vài_điều', 'vào', 'vào_gặp', 'vào_khoảng', 'vào_lúc', 'vào_vùng', 'vào_đến', 'vâng', 'vâng_chịu', 'vâng_dạ', 'vâng_vâng', 'vâng_ý', 'vèo', 'vèo_vèo', 'vì', 'vì_chưng', 'vì_rằng', 'vì_sao', 'vì_thế', 'vì_vậy', 'ví_bằng', 'ví_dù', 'ví_phỏng', 'ví_thử', 'vô_hình_trung', 'vô_kể', 'vô_luận', 'vô_vàn', 'vùng', 'vùng_lên', 'vùng_nước', 'văng_tê', 'vượt', 'vượt_khỏi', 'vượt_quá', 'vạn_nhất', 'vả_chăng', 'vả_lại', 'vấn_đề', 'vấn_đề_quan_trọng', 'vẫn', 'vẫn_thế', 'vậy', 'vậy_là', 'vậy_mà', 'vậy_nên', 'vậy_ra', 'vậy_thì', 'vậy_ư', 'về', 'về_không', 'về_nước', 'về_phần', 'về_sau', 'về_tay', 'vị_trí', 'vị_tất', 'vốn_dĩ', 'với', 'với_lại', 'với_nhau', 'vở', 'vụt', 'vừa', 'vừa_khi', 'vừa_lúc', 'vừa_mới', 'vừa_qua', 'vừa_rồi', 'vừa_vừa', 'xa', 'xa_cách', 'xa_gần', 'xa_nhà', 'xa_tanh', 'xa_tắp', 'xa_xa', 'xa_xả', 'xem', 'xem_lại', 'xem_ra', 'xem_số', 'xin', 'xin_gặp', 'xin_vâng', 'xiết_bao', 'xon_xón', 'xoành_xoạch', 'xoét', 'xoẳn', 'xoẹt', 'xuất_hiện', 'xuất_kì_bất_ý', 'xuất_kỳ_bất_ý', 'xuể', 'xuống', 'xăm_xúi', 'xăm_xăm', 'xăm_xắm', 'xảy_ra', 'xềnh_xệch', 'xệp', 'xử_lý', 'yêu_cầu', 'à', 'à_này', 'à_ơi', 'ào', 'ào_vào', 'ào_ào', 'á', 'á_à', 'ái', 'ái_chà', 'ái_dà', 'áng', 'áng_như', 'âu_là', 'ít', 'ít_biết', 'ít_có', 'ít_hơn', 'ít_khi', 'ít_lâu', 'ít_nhiều', 'ít_nhất', 'ít_nữa', 'ít_quá', 'ít_ra', 'ít_thôi', 'ít_thấy', 'ô_hay', 'ô_hô', 'ô_kê', 'ô_kìa', 'ôi_chao', 'ôi_thôi', 'ông', 'ông_nhỏ', 'ông_tạo', 'ông_từ', 'ông_ấy', 'ông_ổng', 'úi', 'úi_chà', 'úi_dào', 'ý', 'ý_chừng', 'ý_da', 'ý_hoặc', 'ăn', 'ăn_chung', 'ăn_chắc', 'ăn_chịu', 'ăn_cuộc', 'ăn_hết', 'ăn_hỏi', 'ăn_làm', 'ăn_người', 'ăn_ngồi', 'ăn_quá', 'ăn_riêng', 'ăn_sáng', 'ăn_tay', 'ăn_trên', 'ăn_về', 'đang', 'đang_tay', 'đang_thì', 'điều', 'điều_gì', 'điều_kiện', 'điểm', 'điểm_chính', 'điểm_gặp', 'điểm_đầu_tiên', 'đành_đạch', 'đáng', 'đáng_kể', 'đáng_lí', 'đáng_lý', 'đáng_lẽ', 'đáng_số', 'đánh_giá', 'đánh_đùng', 'đáo_để', 'đâu', 'đâu_có', 'đâu_cũng', 'đâu_như', 'đâu_nào', 'đâu_phải', 'đâu_đâu', 'đâu_đây', 'đâu_đó', 'đây', 'đây_này', 'đây_rồi', 'đây_đó', 'đã', 'đã_hay', 'đã_không', 'đã_là', 'đã_lâu', 'đã_thế', 'đã_vậy', 'đã_đủ', 'đó', 'đó_đây', 'đúng', 'đúng_ngày', 'đúng_ra', 'đúng_tuổi', 'đúng_với', 'đơn_vị', 'đưa', 'đưa_cho', 'đưa_chuyện', 'đưa_em', 'đưa_ra', 'đưa_tay', 'đưa_tin', 'đưa_tới', 'đưa_vào', 'đưa_về', 'đưa_xuống', 'đưa_đến', 'được', 'được_cái', 'được_lời', 'được_nước', 'được_tin', 'đại_loại', 'đại_nhân', 'đại_phàm', 'đại_để', 'đạt', 'đảm_bảo', 'đầu_tiên', 'đầy', 'đầy_năm', 'đầy_phè', 'đầy_tuổi', 'đặc_biệt', 'đặt', 'đặt_làm', 'đặt_mình', 'đặt_mức', 'đặt_ra', 'đặt_trước', 'đặt_để', 'đến', 'đến_bao_giờ', 'đến_cùng', 'đến_cùng_cực', 'đến_cả', 'đến_giờ', 'đến_gần', 'đến_hay', 'đến_khi', 'đến_lúc', 'đến_lời', 'đến_nay', 'đến_ngày', 'đến_nơi', 'đến_nỗi', 'đến_thì', 'đến_thế', 'đến_tuổi', 'đến_xem', 'đến_điều', 'đến_đâu', 'đều', 'đều_bước', 'đều_nhau', 'đều_đều', 'để', 'để_cho', 'để_giống', 'để_không', 'để_lòng', 'để_lại', 'để_mà', 'để_phần', 'để_được', 'để_đến_nỗi', 'đối_với', 'đồng_thời', 'đủ', 'đủ_dùng', 'đủ_nơi', 'đủ_số', 'đủ_điều', 'đủ_điểm', 'ơ', 'ơ_hay', 'ơ_kìa', 'ơi', 'ơi_là', 'ư', 'ạ', 'ạ_ơi', 'ấy', 'ấy_là', 'ầu_ơ', 'ắt', 'ắt_hẳn', 'ắt_là', 'ắt_phải', 'ắt_thật', 'ối_dào', 'ối_giời', 'ối_giời_ơi', 'ồ', 'ồ_ồ', 'ổng', 'ớ', 'ớ_này', 'ờ', 'ờ_ờ', 'ở', 'ở_lại', 'ở_như', 'ở_nhờ', 'ở_năm', 'ở_trên', 'ở_vào', 'ở_đây', 'ở_đó', 'ở_được', 'ủa', 'ứ_hự', 'ứ_ừ', 'ừ', 'ừ_nhé', 'ừ_thì', 'ừ_ào', 'ừ_ừ', 'ử']\n"
          ]
        }
      ]
    },
    {
      "cell_type": "code",
      "source": [
        "import re\n",
        "\n",
        "def preprocess_text(text):\n",
        "    # Remove stopwords\n",
        "    word_tokens = text.split()\n",
        "    filtered_text = [word for word in word_tokens if word.lower() not in stopwords]\n",
        "\n",
        "    # Remove text with single character\n",
        "    filtered_text = [word for word in filtered_text if len(word) > 1]\n",
        "\n",
        "    filtered_text = ' '.join(filtered_text)\n",
        "\n",
        "    return filtered_text.lower()"
      ],
      "metadata": {
        "id": "qheO1UIu0jgn"
      },
      "execution_count": 19,
      "outputs": []
    },
    {
      "cell_type": "code",
      "source": [
        "for index, row in dataset.iterrows():\n",
        "    # Extract the content of the \"Trích yếu\" column\n",
        "    text = row['Trích yếu']\n",
        "    annotate_text = model.annotate_text(text)\n",
        "    # Append the segmented text to a new column named \"input\"\n",
        "    dataset.at[index, 'input'] = preprocess_text(dict_to_string(remove_excluded_pos_tags(annotate_text)))"
      ],
      "metadata": {
        "id": "N7mt3BoryC1A"
      },
      "execution_count": 20,
      "outputs": []
    },
    {
      "cell_type": "code",
      "source": [
        "dataset.drop(columns = ['Trích yếu'], inplace = True)"
      ],
      "metadata": {
        "id": "MRH-r8-W7vlE"
      },
      "execution_count": 21,
      "outputs": []
    },
    {
      "cell_type": "code",
      "source": [
        "dataset.info()"
      ],
      "metadata": {
        "colab": {
          "base_uri": "https://localhost:8080/"
        },
        "id": "3cjGgqOQbQZi",
        "outputId": "873fd6ba-b460-4968-e7aa-1cfbcace6190"
      },
      "execution_count": 22,
      "outputs": [
        {
          "output_type": "stream",
          "name": "stdout",
          "text": [
            "<class 'pandas.core.frame.DataFrame'>\n",
            "RangeIndex: 57325 entries, 0 to 57324\n",
            "Data columns (total 2 columns):\n",
            " #   Column                Non-Null Count  Dtype \n",
            "---  ------                --------------  ----- \n",
            " 0   ID phòng xử lý chính  57325 non-null  int64 \n",
            " 1   input                 57325 non-null  object\n",
            "dtypes: int64(1), object(1)\n",
            "memory usage: 895.8+ KB\n"
          ]
        }
      ]
    },
    {
      "cell_type": "code",
      "source": [
        "dataset"
      ],
      "metadata": {
        "colab": {
          "base_uri": "https://localhost:8080/",
          "height": 423
        },
        "id": "0mQ_YYgDboPK",
        "outputId": "34215c03-bcc4-4cf7-a290-4b6fb2a28774"
      },
      "execution_count": 23,
      "outputs": [
        {
          "output_type": "execute_result",
          "data": {
            "text/plain": [
              "       ID phòng xử lý chính                                              input\n",
              "0                   2733552      danh_sách nhân_lực cơ_quan địa_phương nhu_cầu\n",
              "1                   2733582  mẫu phiếu thu_thập thông_tin lãnh_đạo cơ_quan_...\n",
              "2                   2733552  danh_sách cán_bộ công_chức lao_động hợp_đồng t...\n",
              "3                   2733552  phương_án giải_quyết lưu_thông công_văn ubnd-v...\n",
              "4                   2733546  danh_sách đăng_ký tham_dự lớp tập_huấn văn_thư...\n",
              "...                     ...                                                ...\n",
              "57320               2733552                                            hỏi_đáp\n",
              "57321               2733540                   viết tham_luận hội_thảo khoa_học\n",
              "57322               2733546                                  phúc_đáp giấy mời\n",
              "57323               2733552                   nội_dung chủ_yếu chỉ_thị ct qutw\n",
              "57324               2733552  dự_thảo quyết_định thành_lập dự_thảo quy_chế h...\n",
              "\n",
              "[57325 rows x 2 columns]"
            ],
            "text/html": [
              "\n",
              "  <div id=\"df-9d7e4d9b-9a16-44be-8ca2-60140a872219\" class=\"colab-df-container\">\n",
              "    <div>\n",
              "<style scoped>\n",
              "    .dataframe tbody tr th:only-of-type {\n",
              "        vertical-align: middle;\n",
              "    }\n",
              "\n",
              "    .dataframe tbody tr th {\n",
              "        vertical-align: top;\n",
              "    }\n",
              "\n",
              "    .dataframe thead th {\n",
              "        text-align: right;\n",
              "    }\n",
              "</style>\n",
              "<table border=\"1\" class=\"dataframe\">\n",
              "  <thead>\n",
              "    <tr style=\"text-align: right;\">\n",
              "      <th></th>\n",
              "      <th>ID phòng xử lý chính</th>\n",
              "      <th>input</th>\n",
              "    </tr>\n",
              "  </thead>\n",
              "  <tbody>\n",
              "    <tr>\n",
              "      <th>0</th>\n",
              "      <td>2733552</td>\n",
              "      <td>danh_sách nhân_lực cơ_quan địa_phương nhu_cầu</td>\n",
              "    </tr>\n",
              "    <tr>\n",
              "      <th>1</th>\n",
              "      <td>2733582</td>\n",
              "      <td>mẫu phiếu thu_thập thông_tin lãnh_đạo cơ_quan_...</td>\n",
              "    </tr>\n",
              "    <tr>\n",
              "      <th>2</th>\n",
              "      <td>2733552</td>\n",
              "      <td>danh_sách cán_bộ công_chức lao_động hợp_đồng t...</td>\n",
              "    </tr>\n",
              "    <tr>\n",
              "      <th>3</th>\n",
              "      <td>2733552</td>\n",
              "      <td>phương_án giải_quyết lưu_thông công_văn ubnd-v...</td>\n",
              "    </tr>\n",
              "    <tr>\n",
              "      <th>4</th>\n",
              "      <td>2733546</td>\n",
              "      <td>danh_sách đăng_ký tham_dự lớp tập_huấn văn_thư...</td>\n",
              "    </tr>\n",
              "    <tr>\n",
              "      <th>...</th>\n",
              "      <td>...</td>\n",
              "      <td>...</td>\n",
              "    </tr>\n",
              "    <tr>\n",
              "      <th>57320</th>\n",
              "      <td>2733552</td>\n",
              "      <td>hỏi_đáp</td>\n",
              "    </tr>\n",
              "    <tr>\n",
              "      <th>57321</th>\n",
              "      <td>2733540</td>\n",
              "      <td>viết tham_luận hội_thảo khoa_học</td>\n",
              "    </tr>\n",
              "    <tr>\n",
              "      <th>57322</th>\n",
              "      <td>2733546</td>\n",
              "      <td>phúc_đáp giấy mời</td>\n",
              "    </tr>\n",
              "    <tr>\n",
              "      <th>57323</th>\n",
              "      <td>2733552</td>\n",
              "      <td>nội_dung chủ_yếu chỉ_thị ct qutw</td>\n",
              "    </tr>\n",
              "    <tr>\n",
              "      <th>57324</th>\n",
              "      <td>2733552</td>\n",
              "      <td>dự_thảo quyết_định thành_lập dự_thảo quy_chế h...</td>\n",
              "    </tr>\n",
              "  </tbody>\n",
              "</table>\n",
              "<p>57325 rows × 2 columns</p>\n",
              "</div>\n",
              "    <div class=\"colab-df-buttons\">\n",
              "\n",
              "  <div class=\"colab-df-container\">\n",
              "    <button class=\"colab-df-convert\" onclick=\"convertToInteractive('df-9d7e4d9b-9a16-44be-8ca2-60140a872219')\"\n",
              "            title=\"Convert this dataframe to an interactive table.\"\n",
              "            style=\"display:none;\">\n",
              "\n",
              "  <svg xmlns=\"http://www.w3.org/2000/svg\" height=\"24px\" viewBox=\"0 -960 960 960\">\n",
              "    <path d=\"M120-120v-720h720v720H120Zm60-500h600v-160H180v160Zm220 220h160v-160H400v160Zm0 220h160v-160H400v160ZM180-400h160v-160H180v160Zm440 0h160v-160H620v160ZM180-180h160v-160H180v160Zm440 0h160v-160H620v160Z\"/>\n",
              "  </svg>\n",
              "    </button>\n",
              "\n",
              "  <style>\n",
              "    .colab-df-container {\n",
              "      display:flex;\n",
              "      gap: 12px;\n",
              "    }\n",
              "\n",
              "    .colab-df-convert {\n",
              "      background-color: #E8F0FE;\n",
              "      border: none;\n",
              "      border-radius: 50%;\n",
              "      cursor: pointer;\n",
              "      display: none;\n",
              "      fill: #1967D2;\n",
              "      height: 32px;\n",
              "      padding: 0 0 0 0;\n",
              "      width: 32px;\n",
              "    }\n",
              "\n",
              "    .colab-df-convert:hover {\n",
              "      background-color: #E2EBFA;\n",
              "      box-shadow: 0px 1px 2px rgba(60, 64, 67, 0.3), 0px 1px 3px 1px rgba(60, 64, 67, 0.15);\n",
              "      fill: #174EA6;\n",
              "    }\n",
              "\n",
              "    .colab-df-buttons div {\n",
              "      margin-bottom: 4px;\n",
              "    }\n",
              "\n",
              "    [theme=dark] .colab-df-convert {\n",
              "      background-color: #3B4455;\n",
              "      fill: #D2E3FC;\n",
              "    }\n",
              "\n",
              "    [theme=dark] .colab-df-convert:hover {\n",
              "      background-color: #434B5C;\n",
              "      box-shadow: 0px 1px 3px 1px rgba(0, 0, 0, 0.15);\n",
              "      filter: drop-shadow(0px 1px 2px rgba(0, 0, 0, 0.3));\n",
              "      fill: #FFFFFF;\n",
              "    }\n",
              "  </style>\n",
              "\n",
              "    <script>\n",
              "      const buttonEl =\n",
              "        document.querySelector('#df-9d7e4d9b-9a16-44be-8ca2-60140a872219 button.colab-df-convert');\n",
              "      buttonEl.style.display =\n",
              "        google.colab.kernel.accessAllowed ? 'block' : 'none';\n",
              "\n",
              "      async function convertToInteractive(key) {\n",
              "        const element = document.querySelector('#df-9d7e4d9b-9a16-44be-8ca2-60140a872219');\n",
              "        const dataTable =\n",
              "          await google.colab.kernel.invokeFunction('convertToInteractive',\n",
              "                                                    [key], {});\n",
              "        if (!dataTable) return;\n",
              "\n",
              "        const docLinkHtml = 'Like what you see? Visit the ' +\n",
              "          '<a target=\"_blank\" href=https://colab.research.google.com/notebooks/data_table.ipynb>data table notebook</a>'\n",
              "          + ' to learn more about interactive tables.';\n",
              "        element.innerHTML = '';\n",
              "        dataTable['output_type'] = 'display_data';\n",
              "        await google.colab.output.renderOutput(dataTable, element);\n",
              "        const docLink = document.createElement('div');\n",
              "        docLink.innerHTML = docLinkHtml;\n",
              "        element.appendChild(docLink);\n",
              "      }\n",
              "    </script>\n",
              "  </div>\n",
              "\n",
              "\n",
              "<div id=\"df-5ba8290d-1af4-4063-bf27-1463a16ed865\">\n",
              "  <button class=\"colab-df-quickchart\" onclick=\"quickchart('df-5ba8290d-1af4-4063-bf27-1463a16ed865')\"\n",
              "            title=\"Suggest charts\"\n",
              "            style=\"display:none;\">\n",
              "\n",
              "<svg xmlns=\"http://www.w3.org/2000/svg\" height=\"24px\"viewBox=\"0 0 24 24\"\n",
              "     width=\"24px\">\n",
              "    <g>\n",
              "        <path d=\"M19 3H5c-1.1 0-2 .9-2 2v14c0 1.1.9 2 2 2h14c1.1 0 2-.9 2-2V5c0-1.1-.9-2-2-2zM9 17H7v-7h2v7zm4 0h-2V7h2v10zm4 0h-2v-4h2v4z\"/>\n",
              "    </g>\n",
              "</svg>\n",
              "  </button>\n",
              "\n",
              "<style>\n",
              "  .colab-df-quickchart {\n",
              "      --bg-color: #E8F0FE;\n",
              "      --fill-color: #1967D2;\n",
              "      --hover-bg-color: #E2EBFA;\n",
              "      --hover-fill-color: #174EA6;\n",
              "      --disabled-fill-color: #AAA;\n",
              "      --disabled-bg-color: #DDD;\n",
              "  }\n",
              "\n",
              "  [theme=dark] .colab-df-quickchart {\n",
              "      --bg-color: #3B4455;\n",
              "      --fill-color: #D2E3FC;\n",
              "      --hover-bg-color: #434B5C;\n",
              "      --hover-fill-color: #FFFFFF;\n",
              "      --disabled-bg-color: #3B4455;\n",
              "      --disabled-fill-color: #666;\n",
              "  }\n",
              "\n",
              "  .colab-df-quickchart {\n",
              "    background-color: var(--bg-color);\n",
              "    border: none;\n",
              "    border-radius: 50%;\n",
              "    cursor: pointer;\n",
              "    display: none;\n",
              "    fill: var(--fill-color);\n",
              "    height: 32px;\n",
              "    padding: 0;\n",
              "    width: 32px;\n",
              "  }\n",
              "\n",
              "  .colab-df-quickchart:hover {\n",
              "    background-color: var(--hover-bg-color);\n",
              "    box-shadow: 0 1px 2px rgba(60, 64, 67, 0.3), 0 1px 3px 1px rgba(60, 64, 67, 0.15);\n",
              "    fill: var(--button-hover-fill-color);\n",
              "  }\n",
              "\n",
              "  .colab-df-quickchart-complete:disabled,\n",
              "  .colab-df-quickchart-complete:disabled:hover {\n",
              "    background-color: var(--disabled-bg-color);\n",
              "    fill: var(--disabled-fill-color);\n",
              "    box-shadow: none;\n",
              "  }\n",
              "\n",
              "  .colab-df-spinner {\n",
              "    border: 2px solid var(--fill-color);\n",
              "    border-color: transparent;\n",
              "    border-bottom-color: var(--fill-color);\n",
              "    animation:\n",
              "      spin 1s steps(1) infinite;\n",
              "  }\n",
              "\n",
              "  @keyframes spin {\n",
              "    0% {\n",
              "      border-color: transparent;\n",
              "      border-bottom-color: var(--fill-color);\n",
              "      border-left-color: var(--fill-color);\n",
              "    }\n",
              "    20% {\n",
              "      border-color: transparent;\n",
              "      border-left-color: var(--fill-color);\n",
              "      border-top-color: var(--fill-color);\n",
              "    }\n",
              "    30% {\n",
              "      border-color: transparent;\n",
              "      border-left-color: var(--fill-color);\n",
              "      border-top-color: var(--fill-color);\n",
              "      border-right-color: var(--fill-color);\n",
              "    }\n",
              "    40% {\n",
              "      border-color: transparent;\n",
              "      border-right-color: var(--fill-color);\n",
              "      border-top-color: var(--fill-color);\n",
              "    }\n",
              "    60% {\n",
              "      border-color: transparent;\n",
              "      border-right-color: var(--fill-color);\n",
              "    }\n",
              "    80% {\n",
              "      border-color: transparent;\n",
              "      border-right-color: var(--fill-color);\n",
              "      border-bottom-color: var(--fill-color);\n",
              "    }\n",
              "    90% {\n",
              "      border-color: transparent;\n",
              "      border-bottom-color: var(--fill-color);\n",
              "    }\n",
              "  }\n",
              "</style>\n",
              "\n",
              "  <script>\n",
              "    async function quickchart(key) {\n",
              "      const quickchartButtonEl =\n",
              "        document.querySelector('#' + key + ' button');\n",
              "      quickchartButtonEl.disabled = true;  // To prevent multiple clicks.\n",
              "      quickchartButtonEl.classList.add('colab-df-spinner');\n",
              "      try {\n",
              "        const charts = await google.colab.kernel.invokeFunction(\n",
              "            'suggestCharts', [key], {});\n",
              "      } catch (error) {\n",
              "        console.error('Error during call to suggestCharts:', error);\n",
              "      }\n",
              "      quickchartButtonEl.classList.remove('colab-df-spinner');\n",
              "      quickchartButtonEl.classList.add('colab-df-quickchart-complete');\n",
              "    }\n",
              "    (() => {\n",
              "      let quickchartButtonEl =\n",
              "        document.querySelector('#df-5ba8290d-1af4-4063-bf27-1463a16ed865 button');\n",
              "      quickchartButtonEl.style.display =\n",
              "        google.colab.kernel.accessAllowed ? 'block' : 'none';\n",
              "    })();\n",
              "  </script>\n",
              "</div>\n",
              "\n",
              "  <div id=\"id_029ad53d-694c-478c-8056-30a06aea2068\">\n",
              "    <style>\n",
              "      .colab-df-generate {\n",
              "        background-color: #E8F0FE;\n",
              "        border: none;\n",
              "        border-radius: 50%;\n",
              "        cursor: pointer;\n",
              "        display: none;\n",
              "        fill: #1967D2;\n",
              "        height: 32px;\n",
              "        padding: 0 0 0 0;\n",
              "        width: 32px;\n",
              "      }\n",
              "\n",
              "      .colab-df-generate:hover {\n",
              "        background-color: #E2EBFA;\n",
              "        box-shadow: 0px 1px 2px rgba(60, 64, 67, 0.3), 0px 1px 3px 1px rgba(60, 64, 67, 0.15);\n",
              "        fill: #174EA6;\n",
              "      }\n",
              "\n",
              "      [theme=dark] .colab-df-generate {\n",
              "        background-color: #3B4455;\n",
              "        fill: #D2E3FC;\n",
              "      }\n",
              "\n",
              "      [theme=dark] .colab-df-generate:hover {\n",
              "        background-color: #434B5C;\n",
              "        box-shadow: 0px 1px 3px 1px rgba(0, 0, 0, 0.15);\n",
              "        filter: drop-shadow(0px 1px 2px rgba(0, 0, 0, 0.3));\n",
              "        fill: #FFFFFF;\n",
              "      }\n",
              "    </style>\n",
              "    <button class=\"colab-df-generate\" onclick=\"generateWithVariable('dataset')\"\n",
              "            title=\"Generate code using this dataframe.\"\n",
              "            style=\"display:none;\">\n",
              "\n",
              "  <svg xmlns=\"http://www.w3.org/2000/svg\" height=\"24px\"viewBox=\"0 0 24 24\"\n",
              "       width=\"24px\">\n",
              "    <path d=\"M7,19H8.4L18.45,9,17,7.55,7,17.6ZM5,21V16.75L18.45,3.32a2,2,0,0,1,2.83,0l1.4,1.43a1.91,1.91,0,0,1,.58,1.4,1.91,1.91,0,0,1-.58,1.4L9.25,21ZM18.45,9,17,7.55Zm-12,3A5.31,5.31,0,0,0,4.9,8.1,5.31,5.31,0,0,0,1,6.5,5.31,5.31,0,0,0,4.9,4.9,5.31,5.31,0,0,0,6.5,1,5.31,5.31,0,0,0,8.1,4.9,5.31,5.31,0,0,0,12,6.5,5.46,5.46,0,0,0,6.5,12Z\"/>\n",
              "  </svg>\n",
              "    </button>\n",
              "    <script>\n",
              "      (() => {\n",
              "      const buttonEl =\n",
              "        document.querySelector('#id_029ad53d-694c-478c-8056-30a06aea2068 button.colab-df-generate');\n",
              "      buttonEl.style.display =\n",
              "        google.colab.kernel.accessAllowed ? 'block' : 'none';\n",
              "\n",
              "      buttonEl.onclick = () => {\n",
              "        google.colab.notebook.generateWithVariable('dataset');\n",
              "      }\n",
              "      })();\n",
              "    </script>\n",
              "  </div>\n",
              "\n",
              "    </div>\n",
              "  </div>\n"
            ],
            "application/vnd.google.colaboratory.intrinsic+json": {
              "type": "dataframe",
              "variable_name": "dataset",
              "summary": "{\n  \"name\": \"dataset\",\n  \"rows\": 57325,\n  \"fields\": [\n    {\n      \"column\": \"ID ph\\u00f2ng x\\u1eed l\\u00fd ch\\u00ednh\",\n      \"properties\": {\n        \"dtype\": \"number\",\n        \"std\": 429951,\n        \"min\": 2733504,\n        \"max\": 17917457,\n        \"num_unique_values\": 15,\n        \"samples\": [\n          2733558,\n          2733504,\n          2733552\n        ],\n        \"semantic_type\": \"\",\n        \"description\": \"\"\n      }\n    },\n    {\n      \"column\": \"input\",\n      \"properties\": {\n        \"dtype\": \"string\",\n        \"num_unique_values\": 36807,\n        \"samples\": [\n          \"\\u0111i\\u1ec1u_ch\\u1ec9nh nhu_c\\u1ea7u tuy\\u1ec3n_d\\u1ee5ng c\\u00f4ng_ch\\u1ee9c huy\\u1ec7n tr\\u1edf \\u0111\\u1ecba_b\\u00e0n huy\\u1ec7n\",\n          \"c\\u1eed_nh\\u00e2n tham_gia h\\u1ed9i_\\u0111\\u1ed3ng x\\u00e9t gia_h\\u1ea1n h\\u00e0nh_ngh\\u1ec1\",\n          \"cung_c\\u1ea5p s\\u1ed1_li\\u1ec7u ph\\u1ee5c_v\\u1ee5 ch\\u1ec9_s\\u1ed1 chuy\\u1ec3n_\\u0111\\u1ed5i t\\u1ec9nh\"\n        ],\n        \"semantic_type\": \"\",\n        \"description\": \"\"\n      }\n    }\n  ]\n}"
            }
          },
          "metadata": {},
          "execution_count": 23
        }
      ]
    },
    {
      "cell_type": "code",
      "source": [
        "dataset.to_csv('/content/gdrive/MyDrive/Dataset/Root/separation_and_processing_22_4_2024.csv')"
      ],
      "metadata": {
        "id": "15issFxR7vmm"
      },
      "execution_count": 24,
      "outputs": []
    },
    {
      "cell_type": "markdown",
      "source": [
        "**Split Data**"
      ],
      "metadata": {
        "id": "b5vX9CLz2bf1"
      }
    },
    {
      "cell_type": "code",
      "source": [
        "import os\n",
        "for phong_xu_ly in dataset['ID phòng xử lý chính'].unique():\n",
        "    # Lọc dữ liệu cho mỗi giá trị \"Phòng xử lý\"\n",
        "    filtered_data = dataset[dataset['ID phòng xử lý chính'] == phong_xu_ly]\n",
        "    # Loại bỏ dấu trong tên file\n",
        "    file_name = f\"{phong_xu_ly}_22_4_2024.csv\"\n",
        "    # Ghi dữ liệu vào file\n",
        "    filtered_data.to_csv(os.path.join('/content/gdrive/MyDrive/Dataset/SingleLabel/', file_name), index=False)"
      ],
      "metadata": {
        "id": "t--y_bpJ77Hn"
      },
      "execution_count": 26,
      "outputs": []
    },
    {
      "cell_type": "code",
      "source": [
        "dataset['ID phòng xử lý chính'].value_counts()"
      ],
      "metadata": {
        "colab": {
          "base_uri": "https://localhost:8080/"
        },
        "id": "YFeiRTIDcs7D",
        "outputId": "1a4a2745-150d-4296-b69e-3c493c072e3b"
      },
      "execution_count": 27,
      "outputs": [
        {
          "output_type": "execute_result",
          "data": {
            "text/plain": [
              "ID phòng xử lý chính\n",
              "2733552     16694\n",
              "2733546     15235\n",
              "2733564      7682\n",
              "2733582      6180\n",
              "2733570      4553\n",
              "2733540      4267\n",
              "2733522      1682\n",
              "2733534       532\n",
              "2733528       239\n",
              "2733516        89\n",
              "2733558        80\n",
              "17917457       46\n",
              "2733504        30\n",
              "2733510        12\n",
              "2733576         4\n",
              "Name: count, dtype: int64"
            ]
          },
          "metadata": {},
          "execution_count": 27
        }
      ]
    }
  ]
}